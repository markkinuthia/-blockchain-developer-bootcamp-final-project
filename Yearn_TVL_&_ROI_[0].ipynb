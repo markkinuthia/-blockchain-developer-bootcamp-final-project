{
  "nbformat": 4,
  "nbformat_minor": 0,
  "metadata": {
    "colab": {
      "name": "Yearn TVL & ROI [0].ipynb",
      "provenance": [],
      "collapsed_sections": [],
      "toc_visible": true,
      "include_colab_link": true
    },
    "kernelspec": {
      "display_name": "Python 3",
      "name": "python3"
    },
    "language_info": {
      "name": "python"
    }
  },
  "cells": [
    {
      "cell_type": "markdown",
      "metadata": {
        "id": "view-in-github",
        "colab_type": "text"
      },
      "source": [
        "<a href=\"https://colab.research.google.com/github/markkinuthia/-blockchain-developer-bootcamp-final-project/blob/main/Yearn_TVL_%26_ROI_%5B0%5D.ipynb\" target=\"_parent\"><img src=\"https://colab.research.google.com/assets/colab-badge.svg\" alt=\"Open In Colab\"/></a>"
      ]
    },
    {
      "cell_type": "code",
      "metadata": {
        "colab": {
          "base_uri": "https://localhost:8080/",
          "height": 57
        },
        "id": "HfoQv4gkQQM_",
        "collapsed": true,
        "outputId": "adee8991-3175-4a80-dc8e-e27e1229a6ca"
      },
      "source": [
        "#@title\n",
        "#Imports & settings\n",
        "import pandas as pd\n",
        "import seaborn as sns\n",
        "import matplotlib.pyplot as plt\n",
        "import plotly.express as px\n",
        "import plotly.graph_objects as go\n",
        "from plotly.subplots import make_subplots\n",
        "sns.set_theme(style=\"ticks\", color_codes=True)\n",
        "%matplotlib inline\n",
        "%load_ext rpy2.ipython\n",
        "%R options(tidyverse.quiet = TRUE)\n",
        "%R options(lubridate.quiet = TRUE)\n",
        "%R options(jsonlite.quiet = TRUE)\n",
        "%R suppressMessages(library(tidyverse))\n",
        "%R suppressMessages(library(lubridate))\n",
        "%R suppressMessages(library(jsonlite))\n",
        "%R suppressMessages(options(dplyr.summarise.inform = FALSE))"
      ],
      "execution_count": 7,
      "outputs": [
        {
          "output_type": "execute_result",
          "data": {
            "text/plain": [
              "<rpy2.robjects.vectors.ListVector object at 0x7f17bb932280> [RTYPES.VECSXP]\n",
              "R classes: ('list',)\n",
              "[NULLType]\n",
              "  dplyr.summarise.inform: <class 'rpy2.rinterface_lib.sexp.NULLType'>\n",
              "  <rpy2.rinterface_lib.sexp.NULLType object at 0x7f17bd332820> [RTYPES.NILSXP]"
            ],
            "text/html": [
              "\n",
              "        <span>ListVector with 1 elements.</span>\n",
              "        <table>\n",
              "        <tbody>\n",
              "        \n",
              "          <tr>\n",
              "            <th>\n",
              "            dplyr.summarise.inform\n",
              "            </th>\n",
              "            <td>\n",
              "            <rpy2.rinterface_lib.sexp.NULLType object at 0x7f17bd332820> [RTYPES.NILSXP]\n",
              "            </td>\n",
              "          </tr>\n",
              "        \n",
              "        </tbody>\n",
              "        </table>\n",
              "        "
            ]
          },
          "metadata": {},
          "execution_count": 7
        }
      ]
    },
    {
      "cell_type": "code",
      "metadata": {
        "id": "ADYcgjxxQwtX"
      },
      "source": [
        "#@title\n",
        "%%R\n",
        "#Grab base query from Flipside\n",
        "df = fromJSON('https://api.flipsidecrypto.com/api/v2/queries/79667064-b29f-4297-9a9e-c8e162beb2fa/data/latest', simplifyDataFrame = TRUE)\n",
        "\n",
        "#Change the date to date format\n",
        "df$DATE <- parse_datetime(df$DATE)\n",
        "\n",
        "#Rename & reorder columns\n",
        "df = df %>% rename(asset_symbol = ASSET_SYMBOL, burn_amount = BURN_AMOUNT, date = DATE, \n",
        "                   mint_amount = MINT_AMOUNT, net_ytoken_increase = NET_YTOKEN_INCREASE,\n",
        "                   ytoken_price = YTOKEN_PRICE, pricing_symbol = PRICING_SYMBOL, token_price = TOKEN_PRICE,\n",
        "                   vault_name = VAULT_NAME, vault_symbol = VAULT_SYMBOL, \n",
        "                   ytoken_price = YTOKEN_PRICE, exposure = EXPOSURE) %>%\n",
        "  select(date, vault_name, vault_symbol, asset_symbol, exposure, mint_amount, burn_amount,\n",
        "         net_ytoken_increase, ytoken_price, pricing_symbol, token_price)\n",
        "  \n",
        "###Fill in the missing data\n",
        "#create a date sequence from min date to max date\n",
        "full_date_range <- tibble(date = seq(min(df$date), max(df$date), by = \"days\"))\n",
        "\n",
        "#create a new empty df\n",
        "df_full_dates <- df %>% filter(vault_symbol == \"yeehaa\")\n",
        "\n",
        "#create the list of vaults to iterate over\n",
        "vault_list <- df %>%  distinct(vault_symbol) \n",
        "\n",
        "#iterate over the vaults and fill the missing bits - I know I should vectorise this, please don't be disappointed in me\n",
        "for(vault in vault_list$vault_symbol) {\n",
        "\n",
        "  #filter to a single vault\n",
        "  single_vault <- df %>% filter(vault_symbol == vault)\n",
        "  \n",
        "  #store the min_date\n",
        "  min_date <- min(single_vault$date)\n",
        "  \n",
        "  #join on the full date range \n",
        "  single_vault <- full_date_range %>%\n",
        "    left_join(single_vault, by = \"date\")\n",
        "  \n",
        "  #chop off data prior to min_date\n",
        "  single_vault <- single_vault %>% filter(date >= min_date)\n",
        "  \n",
        "  #fill chars with above, prices with above, mint/burns with zero\n",
        "  single_vault <- single_vault %>%\n",
        "    fill(vault_name) %>%\n",
        "    fill(vault_symbol) %>%\n",
        "    fill(asset_symbol) %>%\n",
        "    fill(exposure) %>%\n",
        "    fill(pricing_symbol, .direction = \"downup\") %>%\n",
        "    fill(ytoken_price, .direction = \"downup\") %>%\n",
        "    fill(token_price, .direction = \"downup\") %>%\n",
        "    replace_na(list(mint_amount = 0, burn_amount = 0, net_ytoken_increase = 0))\n",
        "  \n",
        "  #append the newly fixed data to the \n",
        "  df_full_dates <- df_full_dates %>%\n",
        "    bind_rows(single_vault)\n",
        "\n",
        "}\n",
        "\n",
        "#update the master df\n",
        "df <- df_full_dates  \n",
        "\n",
        "### Calculate ROIs\n",
        "#7 Day ROI - define ROI as the annualised 7 day vault return - assume 52 weeks/year\n",
        "#calculate the 7 day lagged value of ytoken_price\n",
        "tmp <- df %>%\n",
        "  select(vault_name, date, ytoken_price) %>%\n",
        "  group_by(vault_name) %>%\n",
        "  mutate(ytoken_lag7 = lag(ytoken_price, n=7, order_by = date)) %>%\n",
        "  ungroup()\n",
        "df <- df %>% bind_cols(tmp %>% select(ytoken_lag7))\n",
        "\n",
        "#Calculate 7 day ROI\n",
        "df <- df %>%\n",
        "  mutate(vault_7day_ROI = (ytoken_price - ytoken_lag7) * 52 * 100)\n",
        "\n",
        "# ROI from inception\n",
        "#Generate min ytoken price & inception date by vault\n",
        "tmp <- df %>%\n",
        "  select(vault_name, date, ytoken_price) %>%\n",
        "  group_by(vault_name) %>%\n",
        "  mutate(ytoken_inception_price = min(ytoken_price),  #price is always increasing according to docs\n",
        "         inception_date = min(date),\n",
        "         days_since_inception = as.numeric(as.duration(inception_date %--% date), \"days\")\n",
        "         ) %>%  \n",
        "  ungroup()\n",
        "df <- df %>% bind_cols(tmp %>% select(ytoken_inception_price, inception_date))\n",
        "\n",
        "#Calculate ROI since inception\n",
        "df <- df %>%\n",
        "  mutate(days_since_inception = as.numeric(as.duration(inception_date %--% date), \"days\"),\n",
        "         vault_inception_ROI = (ytoken_price - ytoken_inception_price) / days_since_inception * 365 * 100\n",
        "  )\n",
        "\n",
        "### Calculate deposited tokens and TVL\n",
        "#Generate a running total (cumsum) of mints & burns to get tokens issued\n",
        "df <- df %>% \n",
        "  group_by(vault_name) %>%\n",
        "  mutate(ytokens_on_issue = cumsum(net_ytoken_increase)) %>%\n",
        "  ungroup()\n",
        "  \n",
        "#Calculate ytokens on issue and TVL\n",
        "df <- df %>%\n",
        "  mutate(asset_tokens_deposited = ytokens_on_issue * ytoken_price,\n",
        "         total_assets_usd = asset_tokens_deposited * token_price)\n",
        "  \n",
        "#filter vaults with data errors (waiting fix from Flipside)\n",
        "#df <- df %>% filter(!(vault_symbol %in% c(\"yvUSDT\", \"yvWBTC\")))\n",
        "\n",
        "\n",
        "#Tag top10 by TVL\n",
        "top10_by_tvl <- df %>%\n",
        "  filter(date == max(date)) %>%\n",
        "  arrange(desc(total_assets_usd)) %>%\n",
        "  head(10) %>%\n",
        "  select(vault_name) %>%\n",
        "  mutate(top10_tvl = 1)\n",
        "df <- df %>%\n",
        "  left_join(top10_by_tvl, by = \"vault_name\")\n",
        "df$top10_tvl <- replace_na(df$top10_tvl, 0)\n",
        "\n",
        "#Tag the top10 by 7 day ROI\n",
        "top10_by_7roi <- df %>%\n",
        "  filter(date == max(date)) %>%\n",
        "  arrange(desc(vault_7day_ROI)) %>%\n",
        "  head(10) %>%\n",
        "  select(vault_name) %>%\n",
        "  mutate(top10_7day_roi = 1)\n",
        "df <- df %>%\n",
        "  left_join(top10_by_7roi, by = \"vault_name\")\n",
        "df$top10_7day_roi <- replace_na(df$top10_7day_roi, 0)\n",
        "\n",
        "#Tag the top10 by inception ROI\n",
        "top10_by_inceproi <- df %>%\n",
        "  filter(date == max(date)) %>%\n",
        "  arrange(desc(vault_inception_ROI)) %>%\n",
        "  head(10) %>%\n",
        "  select(vault_name) %>%\n",
        "  mutate(top10_inception_roi = 1)\n",
        "df <- df %>%\n",
        "  left_join(top10_by_inceproi, by = \"vault_name\")\n",
        "df$top10_inception_roi <- replace_na(df$top10_inception_roi, 0)\n"
      ],
      "execution_count": 8,
      "outputs": []
    },
    {
      "cell_type": "markdown",
      "metadata": {
        "id": "j8nfEJGTGEvB"
      },
      "source": [
        "# Exploring Yearn - TVL and ROI"
      ]
    },
    {
      "cell_type": "markdown",
      "metadata": {
        "id": "MVEjkvQnF6Bw"
      },
      "source": [
        "## Introduction to Yearn\n",
        "\n",
        "Yearn is a DeFi yield aggregator protocol.  There are a million different ways to earn yield on your tokens in DeFi.  Some are risky, some are safe, and some are really complex.  Yearn aims to simplify this for users by providing a simple interface to deposit tokens and earn yield.  Yearn provides a series of vaults, based around a deposit asset type, in which users can deposit an asset to earn yield.  Behind the scenes, Yearn automates the allocation of funds from vaults into strategies, which use cutting edge yield-farming techniques to bring gains back to the vault.  Users can withdraw a larger number of tokens at a later date, with the gains representing the yield earned by the vault strategists.  There are a couple of key things to know about Yearn:\n",
        "- Yields are earned in the denomination of the vault\n",
        "- Users retain exposure to the deposited asset whilst it is in the vault\n",
        "\n",
        "For example, you deposit ETH into a vault & withdraw a week later.  ETH price has dropped.  You will have more ETH than when you deposited, but the USD value of that ETH may be less than you had at the beginning.  This is actually an advantage for some users - if a user wants to maintain exposure to an asset (say ETH, or BTC, because they think it will go up in the longer term), they can deposit in a corresponding vault to earn yield whilst they are hodling.  Yearn also has a handy feature to further support this - you can deposit into any vault using ETH, WBTC, DAI, USDC, or USDT, and Yearn will automatically swap into the vault deposit asset.   \n",
        "\n",
        "---"
      ]
    },
    {
      "cell_type": "markdown",
      "metadata": {
        "id": "z3gZFlBQP7AN"
      },
      "source": [
        "## Yearn Vaults v2\n",
        "\n",
        "Yearn launched version 2 of its Vaults in July 2020.  These were a major upgrade on the original vaults, allowing up to 20 strategies to service a single vault.  Prior to v2, Yearn Vaults only had one strategy.  Most of the v2 Vaults have 2 or more strategies, with automatic logic working to allocate user funds to these strategies to get the best return fo the Vault.  This dashboard will focus on the top 20 Yearn v2 Vaults by TVL.  These vaults account for around US\\$2.6b of value out of the US\\$3.5b listed on [Defi Pulse](https://defipulse.com/yearn.finance).  There are over 100 different Yearn vaults & other products (iearn, v1 vaults), but these top v2 vaults represent most of the value locked in Yearn at the moment.  We will use the abbreviation TVL (Total Value Locked) to refer to the USD value deposited in Vaults.\n",
        "\n",
        "\n"
      ]
    },
    {
      "cell_type": "markdown",
      "metadata": {
        "id": "FvQfXDeLGR6-"
      },
      "source": [
        "### Growth in Value of V2 Vaults\n",
        "\n",
        "The graph below shows the growth of the top 20 V2 vaults over 2021.  This growth has been a mix of organic protocol growth, and the migration of funds from obsolete vaults (v1 or older v2 vaults).  Note the falls in value which occurred in May & June 2021, when there were rapid drops in the value of most crypto assets agains the USD."
      ]
    },
    {
      "cell_type": "code",
      "metadata": {
        "colab": {
          "base_uri": "https://localhost:8080/"
        },
        "id": "w0yPTTemNifY",
        "outputId": "c5a93f20-df31-4836-f06f-2ac98c796aef"
      },
      "source": [
        "#@title\n",
        "#Plot TVLs\n",
        "df_p = %R df %>% filter(vault_symbol != \"yvCurve-triCrypto\") %>% group_by(date) %>% summarise(top10_tvl_by_date = sum(total_assets_usd))\n",
        "fig = px.line(df_p, x=\"date\", y=\"top10_tvl_by_date\", \n",
        "              template=\"simple_white\", width=800, height=800/1.618,\n",
        "              title= 'Yearn v2 Vaults - Total Value of Top 20 Vaults in USD')\n",
        "fig.update_yaxes(title_text='USD Value')\n",
        "fig.show()"
      ],
      "execution_count": 6,
      "outputs": [
        {
          "output_type": "stream",
          "name": "stderr",
          "text": [
            "UsageError: Line magic function `%R` not found.\n"
          ]
        }
      ]
    },
    {
      "cell_type": "markdown",
      "metadata": {
        "id": "J7KFCkSCaWAW"
      },
      "source": [
        "---\n",
        "## Which Vaults Hold the Value?\n",
        "\n",
        "The chart below shows the value by Vault for the top 10 vaults by value.  Before we take a good look, it is a good time to talk about vault names & what they mean.  You'll notice the vault names below all start with *yv* - it doesn't take a genius to figure that means *Yearn Vault*.  You'll then notice there are two types of names:\n",
        "- *yv\\<Token Name\\>* - these are vaults where the deposited token (example - WETH for the yvWETH vault) are used for yield farming by the vault strategies\n",
        "- *yvCurve-\\<Curve Pool Name\\>* - these vaults start by depositing the tokens into the corresponding Curve Pool, then yield farming with the resulting deposit token.  Curve is a dex, specialising in stablecoin swaps and big brained mathemetics.  Yearn uses Curve pools as the basis for many of their Vaults.\n",
        "\n",
        "In the graph below, you'll see that the biggest pool by value is the USDC pool, followed closely by the DAI pool.  These are both USD pegged stablecoins.  In fact, so is IronBank, LUSD, USDT and USDN - 6 out of the top 10 vault assets.  There are three ETH based vaults, and the Yearn governance token, YFI, is also in the list.\n",
        "\n",
        "An interesting feature of this chart is the large increases of the yvUSDC vault on the 7th of June, and the yvDAI vault on 29th of June.  The USDC transaction was a US\\$180m deposit from what looks like a whale account, and the DAI transaction was a series Yearn protocol operations - possibly a migration of funds from an older version of the yvDAI vault to this one.\n",
        "\n",
        "*Usage tip - The graphs in this dashboard are interactive.  Click on a plot trace in the legend once to turn it on & off.  Double-click on a plot trace in the legend to turn off everything but the selected plot.  Click & drag in the plot area to zoom.  Double-click the chart area to unzoom.*"
      ]
    },
    {
      "cell_type": "code",
      "metadata": {
        "colab": {
          "base_uri": "https://localhost:8080/"
        },
        "id": "ESNKA_2RWXDE",
        "outputId": "9da8f671-c2af-4fde-c22d-d038a2dfa69d"
      },
      "source": [
        "#@title\n",
        "#Plot ROI since inception\n",
        "df_p = %R df %>% filter(top10_tvl == 1)\n",
        "fig = px.line(df_p, x=\"date\", y=\"total_assets_usd\", color='vault_symbol',\n",
        "              template=\"simple_white\", width=800, height=800/1.618,\n",
        "              title= 'Yearn v2 Vaults TVL (Top 10 Vaults Only)'\n",
        "              )\n",
        "fig.update_layout(legend=dict(\n",
        "    yanchor=\"top\",\n",
        "    y=0.99,\n",
        "    xanchor=\"left\",\n",
        "    x=0.01\n",
        "))\n",
        "fig.update_yaxes(title_text='USD Value')\n",
        "fig.show()"
      ],
      "execution_count": 5,
      "outputs": [
        {
          "output_type": "stream",
          "name": "stderr",
          "text": [
            "UsageError: Line magic function `%R` not found.\n"
          ]
        }
      ]
    },
    {
      "cell_type": "markdown",
      "metadata": {
        "id": "lztLkaG_GzhP"
      },
      "source": [
        "---\n",
        "## Vault Return on Investment\n"
      ]
    },
    {
      "cell_type": "markdown",
      "metadata": {
        "id": "grgCGVXLiazO"
      },
      "source": [
        "### Defining ROI\n",
        "\n",
        "Vault returns are defined as a Return on Investment - ROI.  This is usually an annualised number, which represents the returns you might get if you deposited in a vault for a year.  There are a number of caveats around this however - the returns often change over time, and the returns are denominated in the vault deposit asset.  This is a bit different to a traditional APR or APY definition, although [yearn.finance](http://yearn.finance) does use the APY label on it's ROI calculation on the main Vault deposit page.  It describes this as \"annualised weekly yield\" which is more or less the definition we will use.\n",
        "\n",
        "Each Vault has an exchange rate built into it - deposit 1 token, get a bit less than one yvtoken in return.  Over time, 1 deposit token will buy less and less yvtokens - the price is always rising.  For a given investment, the ROI is determined by the following formula, where the Buy & Sell prices are the number of native tokens required to buy the yvtokens:\n",
        "\n",
        "> $ROI_{annualised} = \\frac{(SellPrice) - (BuyPrice)}{TimeInYears}$\n",
        "\n",
        "For comparison of Vault returns we will use a rolling 7 day period to determine the ROI.  This matches the [yearn.finance](http://yearn.finance) approach and, let's face it, we are in DeFi and we have **very** short investment horizons.  More info on calculating ROI can be found at [Yearn Docs](https://docs.yearn.finance/resources/guides/how-to-understand-yvault-roi) and this [helpful notebook on Github](https://github.com/Zer0dot/yearn_roi/blob/master/yearn_vaults_ROI_calc.ipynb).\n",
        "\n",
        "The graphs below are an example of the ROI calculations for the yvUSDC v2 Vault.  The top chart shows the price of a yvUSDC token in USDC, and the chart below it is the annualised 7 day ROI.  You will notice that the Vault yield travelled happily along between 15-25% until the May 2021 Crypto Crash, after which yields fell to around 5%.  This will be a recurring theme when we look at other Vault returns."
      ]
    },
    {
      "cell_type": "code",
      "metadata": {
        "colab": {
          "base_uri": "https://localhost:8080/"
        },
        "id": "zuSneJVrg433",
        "outputId": "96ae99ac-b13a-4dd4-ba68-6f8275473ea3"
      },
      "source": [
        "#@title\n",
        "#Plot subplots of ytoken price & ROI\n",
        "df_p = %R df %>% filter(vault_symbol == \"yvUSDC\")\n",
        "fig = make_subplots(rows=2, cols=1, subplot_titles=(\"yvUSDC Price (in USDC)\", \"yvUSDC 7 Day Annualised ROI\"))\n",
        "fig.append_trace(go.Scatter(x=df_p[\"date\"], y=df_p[\"ytoken_price\"], name=\"Price\"), row=1, col=1)\n",
        "fig.append_trace(go.Scatter(x=df_p[\"date\"], y=df_p[\"vault_7day_ROI\"], name=\"ROI\"), row=2, col=1)\n",
        "fig.update_layout(width=800, height=800/1.618, title_text=\"yvUSDC Price & Returns\")\n",
        "fig.update_layout(template=\"simple_white\", showlegend=False)\n",
        "fig.update_yaxes(title_text='yvUSDC Price in USDC', row=1, col=1)\n",
        "fig.update_yaxes(title_text='ROI % Annualised', row=2, col=1)\n",
        "fig.show()"
      ],
      "execution_count": 1,
      "outputs": [
        {
          "output_type": "stream",
          "name": "stderr",
          "text": [
            "UsageError: Line magic function `%R` not found.\n"
          ]
        }
      ]
    },
    {
      "cell_type": "markdown",
      "metadata": {
        "id": "Q4bsuF9zHF4G"
      },
      "source": [
        "### ROI of the Largest Vaults\n",
        " \n",
        "We have seen from above that a huge chunk of capital is tied up in the top 10 Yearn v2 Vaults.  Do these large vaults generate large returns for the depositors?  It turns out that it depends on the vault, and on the timing.\n",
        "\n",
        "The two charts below show the ROI of the top 10 Yearn v2 Vaults by value.  The first chart shows the individual Vaults, and the 2nd is an average ROI of these vaults weighted by the vault value.\n",
        "\n",
        "We see that most of these vaults have seen a steady reduction in ROI from earlier in the year through to the present.  Returns north of 20% were typical, but they have steadily declined to hover in the 0-10% band.  The average chart shows a slight recovery in yields over the last month, giving some hope for better returns in the future.  Of the individual Vaults, the yvCurve-stETH vault, the yvCurve-USDN vault and the yvCurve-IronBank vault appear to have been slightly higher returns than others over time.\n",
        "\n",
        "*Tip - Use the zoom feature to better explore the difference between the vaults, particularly in later months.*"
      ]
    },
    {
      "cell_type": "code",
      "metadata": {
        "colab": {
          "base_uri": "https://localhost:8080/"
        },
        "id": "RfywZoUWTaI1",
        "cellView": "form",
        "outputId": "8db052c5-6ce9-4e64-ef9d-46168869d10c"
      },
      "source": [
        "#@title\n",
        "#Plot ROIs\n",
        "df_p = %R df %>% filter(top10_tvl == 1)\n",
        "fig = px.line(df_p, x=\"date\", y=\"vault_7day_ROI\", color='vault_symbol',\n",
        "              template=\"simple_white\", width=800, height=800/1.618,\n",
        "              title= 'Yearn v2 Vaults ROI - Top 10 Vaults by TVL')\n",
        "fig.update_yaxes(title_text='ROI % Annualised')\n",
        "fig.update_yaxes(range=[0, 70])\n",
        "fig.update_layout(legend=dict(\n",
        "    yanchor=\"top\",\n",
        "    y=0.99,\n",
        "    xanchor=\"right\",\n",
        "    x=1.1\n",
        "))\n",
        "fig.show()\n",
        "df_p = %R df %>% filter(top10_tvl == 1) %>% group_by(date) %>% summarise(weighted_av = weighted.mean(vault_7day_ROI, total_assets_usd, na.rm = TRUE))\n",
        "fig2 = px.line(df_p, x=\"date\", y=\"weighted_av\",\n",
        "              template=\"simple_white\", width=800, height=800/1.618,\n",
        "              title= 'Yearn v2 Vaults ROI - Average of Top 10 Vaults by TVL')\n",
        "fig2.update_yaxes(title_text='ROI % Annualised')\n",
        "fig2.show()"
      ],
      "execution_count": 2,
      "outputs": [
        {
          "output_type": "stream",
          "name": "stderr",
          "text": [
            "UsageError: Line magic function `%R` not found.\n"
          ]
        }
      ]
    },
    {
      "cell_type": "markdown",
      "metadata": {
        "id": "g8qpO8c_SVzF"
      },
      "source": [
        "### Which Vaults Have the Largest ROI?\n",
        "\n",
        "Enough about the biggest vaults.  Let's see who's got the biggest **returns.**\n",
        "\n",
        "We have the same set of charts below as the section above, but this time we are looking at the top 10 Vaults by ROI, instead of value.  We can see that, on average, the returns from these vaults are higher than the previous chart - currently 7.5% compared with 5.7%.  In earlier times, returns were **much** higher in the best performing vaults.\n",
        "\n",
        "One vault stands out as being consistently higher than the the others, even when returns have dropped off.  The yvBOOST Vault, also known as the Yearn Compounding veCRV yVault, is a single strategy vault which accepts yveCRV-DAO tokens.  These tokens entitle the owner to a share of Curve's trading fees, which are harvested, swapped for more yveCRV-DAO and deposited back into the vault.  Thus the returns are auto compounding.  The results are impressive, with the ROI staying over 16% right through the current bearish market.\n",
        "\n",
        "*Tip - Use the zoom feature to better explore the difference between the vaults, particularly in later months.*"
      ]
    },
    {
      "cell_type": "code",
      "metadata": {
        "colab": {
          "base_uri": "https://localhost:8080/"
        },
        "id": "mRvVklkYJnco",
        "outputId": "45903f54-bb40-43af-dd4a-a4bf9c259857"
      },
      "source": [
        "#@title\n",
        "#Plot ROIs\n",
        "df_p = %R df %>% filter(top10_7day_roi == 1)\n",
        "fig = px.line(df_p, x=\"date\", y=\"vault_7day_ROI\", color='vault_symbol',\n",
        "              template=\"simple_white\", width=800, height=800/1.618,\n",
        "              title= 'Yearn v2 Vaults ROI - Top 10 Vaults by ROI')\n",
        "fig.update_yaxes(title_text='ROI % Annualised')\n",
        "fig.update_yaxes(range=[0, 70])\n",
        "fig.update_layout(legend=dict(\n",
        "    yanchor=\"top\",\n",
        "    y=1.1,\n",
        "    xanchor=\"left\",\n",
        "    x=0.01,\n",
        "    font=dict(\n",
        "            size=11,\n",
        "        )\n",
        "))\n",
        "fig.show()\n",
        "df_p = %R df %>% filter(top10_7day_roi == 1) %>% group_by(date) %>% summarise(weighted_av = weighted.mean(vault_7day_ROI, total_assets_usd, na.rm = TRUE))\n",
        "fig2 = px.line(df_p, x=\"date\", y=\"weighted_av\",\n",
        "              template=\"simple_white\", width=800, height=800/1.618,\n",
        "              title= 'Yearn v2 Vaults ROI - Average of Top 10 Vaults by ROI')\n",
        "fig2.update_yaxes(title_text='ROI % Annualised')\n",
        "fig2.show()\n",
        "\n"
      ],
      "execution_count": 4,
      "outputs": [
        {
          "output_type": "stream",
          "name": "stderr",
          "text": [
            "UsageError: Line magic function `%R` not found.\n"
          ]
        }
      ]
    },
    {
      "cell_type": "markdown",
      "metadata": {
        "id": "XhdZC_OmYN-1"
      },
      "source": [
        "### Returns since Inception\n",
        "\n",
        "Just say you're a bored ape and you jump on every new Yearn vault on the day it launches.  What do the returns on the Yearn v2 Vaults look like since inception?  The graph below tells the story, showing the top 10 vaults by ROI since inception.  The clear winner is yvCurve-sETH, at 27% ROI since inception.  This vault relies on Curve & Convex protocols to earn staking rewards, which are swapped & reinvested back into the vault.  Another interesting datapoint is yvBOOST - it's the only vault which has seen the returns since inception steadily rising."
      ]
    },
    {
      "cell_type": "code",
      "metadata": {
        "id": "LlS54F_wJPLt",
        "cellView": "form"
      },
      "source": [
        "#@title\n",
        "#Plot ROIs\n",
        "df_p = %R df %>% filter(top10_inception_roi == 1)\n",
        "fig = px.line(df_p, x=\"date\", y=\"vault_inception_ROI\", color='vault_symbol',\n",
        "              template=\"simple_white\", width=800, height=800/1.618,\n",
        "              title= 'Yearn v2 Vaults ROI Since Inception')\n",
        "fig.update_yaxes(range=[0, 100])\n",
        "fig.update_yaxes(title_text='ROI % Annualised')\n",
        "fig.update_layout(legend=dict(\n",
        "    yanchor=\"top\",\n",
        "    y=0.99,\n",
        "    xanchor=\"right\",\n",
        "    x=0.99\n",
        "))\n",
        "fig.show()"
      ],
      "execution_count": null,
      "outputs": []
    },
    {
      "cell_type": "markdown",
      "metadata": {
        "id": "Z_4GViIpYiWJ"
      },
      "source": [
        "---\n",
        "### Returns Based on Asset Exposure\n",
        "\n",
        "As mentioned in the introduction, users *maintain exposure to the deposited asset* when they ape into a Yearn vault.  Yearn gives the users plenty of choice from this perspective.  There are vaults which take deposits of:\n",
        "- ETH in the form of WETH, sETH, stETH and others\n",
        "- BTC in the form of WBTC, sBTC, oBTC, pBTC and others\n",
        "- Stablecoins - DAI, USDC, USDT, FRAX, EURS, alUSD and others\n",
        "- DeFi tokens - YFI, eCRV-DAO, LINK and others\n",
        "\n",
        "Is there a difference in the returns from Yearn Vaults between these asset classes?  The graphs below attempts to answer this question.  The first chart below shows the volume weighted average ROI of the vaults in each of the asset exposure groups.  \n",
        "\n",
        "Stablecoin yields have consistently been stronger over the period of this chart.  Whilst they have decreased substantially from the 15-25% in the midst of the crypto price boom, they have settled at a respectable 7% in recent weeks.  ETH denominated vaults have followed the same trend, albeit at lowe roverall levels.  ETH returns have settled down at around 2% - better than you get from a savings account, but low in the realms of DeFi.  Our DeFi tokens have performed somewhere in between.  With only three tokens in the pool, this is more to do with these vaults than generally about DeFi. BTC based vaults are low, but have been steadily increasing from 1.5% through to the current range of 4-5%.  Interestingly, BTC returns have outpaced ETH returns from the end of June through to the present.  This is a rare case of BTC flippening ETH - don't tell the BTC Maxies!\n",
        "\n",
        "The 2nd chart below shows all of the individual vaults in the dataset, split by underlying asset exposure.   Here are some observations:\n",
        "- The ETH value has been driven by the yvCurve-SETH pool - it has returned significantly more than the other ETH denominated pools, even in recent weeks when crypto pricing has been depressed.  The underlying Curve pool earns boosted CRV rewards which probably accounts for much of this good performance.\n",
        "- yvBOOST accounts for most of the ROI in the DeFi tokens, being the best performing vault in the dataset.  The yYFI vault in particular has a very low return.  Users probably aren't buying YFI for the yield in Yearn, and are happy to get some return whilst they hodl for capital appreciation.\n",
        "- The stablecoins aren't easy to differentiate - current yields range from 5-12% and the best yielding vault changes often.  \n",
        "- BTC returns are mainly driven by two pools - pBTC and oBTC.  The native BTC pool - yvWBTC - provides very modest returns, ranging between 0.5% and 2%. \n",
        "\n"
      ]
    },
    {
      "cell_type": "code",
      "metadata": {
        "id": "yvWPdg13K_eL",
        "cellView": "form"
      },
      "source": [
        "#@title\n",
        "#Plot TVLs\n",
        "df_p = %R df %>% filter (date >= ymd('2021-05-01')) %>% filter(vault_symbol != \"yvCurve-triCrypto\") %>% group_by(date,exposure) %>% summarise(weighted_av = weighted.mean(vault_7day_ROI, total_assets_usd, na.rm = TRUE)) \n",
        "fig = px.line(df_p, x=\"date\", y=\"weighted_av\", color='exposure',\n",
        "              template=\"simple_white\", width=800, height=800/1.618,\n",
        "              title= 'Yearn v2 Vaults ROI by Underlying Asset Exposure')\n",
        "fig.update_yaxes(title_text='ROI % Annualised')\n",
        "#fig.update_yaxes(range=[0, 70])\n",
        "fig.update_layout(legend=dict(\n",
        "    yanchor=\"top\",\n",
        "    y=0.99,\n",
        "    xanchor=\"right\",\n",
        "    x=0.99\n",
        "))\n",
        "fig.show()"
      ],
      "execution_count": null,
      "outputs": []
    },
    {
      "cell_type": "code",
      "metadata": {
        "id": "TMxwHW7nOeBY",
        "cellView": "form"
      },
      "source": [
        "#@title\n",
        "df_p = %R df %>% filter(vault_symbol != \"yvCurve-triCrypto\") %>% filter (date >= ymd('2021-05-01'))\n",
        "fig = px.line(df_p, x=\"date\", y=\"vault_7day_ROI\", color='vault_symbol', facet_row='exposure',\n",
        "              template=\"simple_white\", width=1000, height=1200/1.618,\n",
        "              title= 'Yearn v2 Vaults ROI by Underlying Asset Exposure - Individual Vaults')\n",
        "fig.update_yaxes(title_text='ROI % Annualised')\n",
        "fig.show()"
      ],
      "execution_count": null,
      "outputs": []
    },
    {
      "cell_type": "markdown",
      "metadata": {
        "id": "4tm6t0i8aVDR"
      },
      "source": [
        "---\n",
        "\n",
        "## Conclusions\n",
        "\n",
        "Our exploration of Yearn has uncovered a number facts.  Most of the Yearn TVL is accounted for by v2 Vaults, and the biggest v2 Vaults contain the popular stablecoins DAI and USDC.  Yearn has a close relationship with Curve, and uses Curve pools in many of the Vaults & Strategies to earn yield for users.  Yearn ROI is calculated from the price of the yvToken at different points in time.  We have seen that this ROI is volatile - past peformance is not a prediction of future returns!  We have seen that the largest vaults by value are not always the vaults with the best ROI.  We also saw that the yvBOOST vault is a standout in terms of its investment returns, consistently outperforming other vaults and even improving returns over time.  Finally, we took a look at which asset class has the best returns over time - stablecoins consistently provide better returns than most other asset classes.\n",
        "\n",
        "*Data in this notebook was sourced from [Flipside Crypto](https://flipsidecrypto.com).*"
      ]
    },
    {
      "cell_type": "markdown",
      "metadata": {
        "id": "kXyJHeDhalAa"
      },
      "source": [
        "# Interactive Feature - TVL and ROI for Any Vault"
      ]
    },
    {
      "cell_type": "code",
      "metadata": {
        "colab": {
          "base_uri": "https://localhost:8080/",
          "height": 637
        },
        "id": "EkyVMh2wfCDU",
        "outputId": "da11bbff-eb6c-46c9-f45c-419e31c43d7b"
      },
      "source": [
        "#@title # Pick-a-Vault TVL & ROI { run: \"auto\" }\n",
        "#@markdown Select a Vault to see the TVL & ROI chart for that Vault:\n",
        "selected_vault = \"yvCurve-oBTC\" #@param [\"yvBOOST\", \"yvCurve-alUSD\", \"yvCurve-EURS\", \"yvCurve-FRAX\", \"yvCurve-IronBank\", \"yvCurve-LINK\", \"yvCurve-LUSD\", \"yvCurve-oBTC\", \"yvCurve-pBTC\", \"yvCurve-sBTC\", \"yvCurve-sETH\", \"yvCurve-stETH\", \"yvCurve-triCrypto\", \"yvCurve-USDN\", \"yvDAI\", \"yvUSDC\", \"yvUSDT\", \"yvWBTC\", \"yvWETH\", \"yvYFI\"]\n",
        "#@markdown *If the charts don't automatically update, re-run the notebook from the Runtime->Run All option in the menu bar.  You may also need to click the play button at the top left.  You should only have to do this once per session.*\n",
        "#Plot subplots of ytoken price & ROI\n",
        "df_p = %R df \n",
        "df_p = df_p[df_p.vault_symbol==selected_vault]\n",
        "fig = make_subplots(rows=2, cols=1, subplot_titles=(selected_vault + \" USD Value\", selected_vault + \" 7 Day Annualised ROI\"))\n",
        "fig.append_trace(go.Scatter(x=df_p[\"date\"], y=df_p[\"total_assets_usd\"], name=\"TVL in USD\"), row=1, col=1)\n",
        "fig.append_trace(go.Scatter(x=df_p[\"date\"], y=df_p[\"vault_7day_ROI\"], name=\"ROI\"), row=2, col=1)\n",
        "fig.update_layout(width=800, height=600, title_text=selected_vault + \" TVL & ROI\")\n",
        "fig.update_layout(template=\"simple_white\", showlegend=False)\n",
        "fig.update_yaxes(title_text='Value in USD', row=1, col=1)\n",
        "fig.update_yaxes(title_text='ROI % Annualised', row=2, col=1)\n",
        "fig.show()\n"
      ],
      "execution_count": 12,
      "outputs": [
        {
          "output_type": "display_data",
          "data": {
            "text/html": [
              "<html>\n",
              "<head><meta charset=\"utf-8\" /></head>\n",
              "<body>\n",
              "    <div>            <script src=\"https://cdnjs.cloudflare.com/ajax/libs/mathjax/2.7.5/MathJax.js?config=TeX-AMS-MML_SVG\"></script><script type=\"text/javascript\">if (window.MathJax) {MathJax.Hub.Config({SVG: {font: \"STIX-Web\"}});}</script>                <script type=\"text/javascript\">window.PlotlyConfig = {MathJaxConfig: 'local'};</script>\n",
              "        <script src=\"https://cdn.plot.ly/plotly-2.8.3.min.js\"></script>                <div id=\"6d29c433-92ad-4a62-8a1d-20e58404419b\" class=\"plotly-graph-div\" style=\"height:600px; width:800px;\"></div>            <script type=\"text/javascript\">                                    window.PLOTLYENV=window.PLOTLYENV || {};                                    if (document.getElementById(\"6d29c433-92ad-4a62-8a1d-20e58404419b\")) {                    Plotly.newPlot(                        \"6d29c433-92ad-4a62-8a1d-20e58404419b\",                        [{\"name\":\"TVL in USD\",\"x\":[\"2021-04-24T00:00:00+00:00\",\"2021-04-25T00:00:00+00:00\",\"2021-04-26T00:00:00+00:00\",\"2021-04-27T00:00:00+00:00\",\"2021-04-28T00:00:00+00:00\",\"2021-04-29T00:00:00+00:00\",\"2021-04-30T00:00:00+00:00\",\"2021-05-01T00:00:00+00:00\",\"2021-05-02T00:00:00+00:00\",\"2021-05-03T00:00:00+00:00\",\"2021-05-04T00:00:00+00:00\",\"2021-05-05T00:00:00+00:00\",\"2021-05-06T00:00:00+00:00\",\"2021-05-07T00:00:00+00:00\",\"2021-05-08T00:00:00+00:00\",\"2021-05-09T00:00:00+00:00\",\"2021-05-10T00:00:00+00:00\",\"2021-05-11T00:00:00+00:00\",\"2021-05-12T00:00:00+00:00\",\"2021-05-13T00:00:00+00:00\",\"2021-05-14T00:00:00+00:00\",\"2021-05-15T00:00:00+00:00\",\"2021-05-16T00:00:00+00:00\",\"2021-05-17T00:00:00+00:00\",\"2021-05-18T00:00:00+00:00\",\"2021-05-19T00:00:00+00:00\",\"2021-05-20T00:00:00+00:00\",\"2021-05-21T00:00:00+00:00\",\"2021-05-22T00:00:00+00:00\",\"2021-05-23T00:00:00+00:00\",\"2021-05-24T00:00:00+00:00\",\"2021-05-25T00:00:00+00:00\",\"2021-05-26T00:00:00+00:00\",\"2021-05-27T00:00:00+00:00\",\"2021-05-28T00:00:00+00:00\",\"2021-05-29T00:00:00+00:00\",\"2021-05-30T00:00:00+00:00\",\"2021-05-31T00:00:00+00:00\",\"2021-06-01T00:00:00+00:00\",\"2021-06-02T00:00:00+00:00\",\"2021-06-03T00:00:00+00:00\",\"2021-06-04T00:00:00+00:00\",\"2021-06-05T00:00:00+00:00\",\"2021-06-06T00:00:00+00:00\",\"2021-06-07T00:00:00+00:00\",\"2021-06-08T00:00:00+00:00\",\"2021-06-09T00:00:00+00:00\",\"2021-06-10T00:00:00+00:00\",\"2021-06-11T00:00:00+00:00\",\"2021-06-12T00:00:00+00:00\",\"2021-06-13T00:00:00+00:00\",\"2021-06-14T00:00:00+00:00\",\"2021-06-15T00:00:00+00:00\",\"2021-06-16T00:00:00+00:00\",\"2021-06-17T00:00:00+00:00\",\"2021-06-18T00:00:00+00:00\",\"2021-06-19T00:00:00+00:00\",\"2021-06-20T00:00:00+00:00\",\"2021-06-21T00:00:00+00:00\",\"2021-06-22T00:00:00+00:00\",\"2021-06-23T00:00:00+00:00\",\"2021-06-24T00:00:00+00:00\",\"2021-06-25T00:00:00+00:00\",\"2021-06-26T00:00:00+00:00\",\"2021-06-27T00:00:00+00:00\",\"2021-06-28T00:00:00+00:00\",\"2021-06-29T00:00:00+00:00\",\"2021-06-30T00:00:00+00:00\",\"2021-07-01T00:00:00+00:00\",\"2021-07-02T00:00:00+00:00\",\"2021-07-03T00:00:00+00:00\",\"2021-07-04T00:00:00+00:00\",\"2021-07-05T00:00:00+00:00\",\"2021-07-06T00:00:00+00:00\",\"2021-07-07T00:00:00+00:00\",\"2021-07-08T00:00:00+00:00\",\"2021-07-09T00:00:00+00:00\",\"2021-07-10T00:00:00+00:00\",\"2021-07-11T00:00:00+00:00\",\"2021-07-12T00:00:00+00:00\",\"2021-07-13T00:00:00+00:00\",\"2021-07-14T00:00:00+00:00\",\"2021-07-15T00:00:00+00:00\",\"2021-07-16T00:00:00+00:00\",\"2021-07-17T00:00:00+00:00\",\"2021-07-18T00:00:00+00:00\",\"2021-07-19T00:00:00+00:00\",\"2021-07-20T00:00:00+00:00\",\"2021-07-21T00:00:00+00:00\",\"2021-07-22T00:00:00+00:00\",\"2021-07-23T00:00:00+00:00\",\"2021-07-24T00:00:00+00:00\",\"2021-07-25T00:00:00+00:00\",\"2021-07-26T00:00:00+00:00\",\"2021-07-27T00:00:00+00:00\",\"2021-07-28T00:00:00+00:00\",\"2021-07-29T00:00:00+00:00\",\"2021-07-30T00:00:00+00:00\",\"2021-07-31T00:00:00+00:00\",\"2021-08-01T00:00:00+00:00\",\"2021-08-02T00:00:00+00:00\",\"2021-08-03T00:00:00+00:00\",\"2021-08-04T00:00:00+00:00\",\"2021-08-05T00:00:00+00:00\",\"2021-08-06T00:00:00+00:00\",\"2021-08-07T00:00:00+00:00\",\"2021-08-08T00:00:00+00:00\",\"2021-08-09T00:00:00+00:00\",\"2021-08-10T00:00:00+00:00\"],\"y\":[794999.0937294671,3269177.840262464,6753150.759735113,7483194.761846651,7885596.159671047,9819932.27663795,9856234.34268178,10032824.75276813,10322797.505564662,10413205.829344248,9607951.129236173,9574155.912731227,10026464.694063285,9999238.472109754,10431714.209541373,10523216.537737425,10523216.537737425,10523216.537737425,10523216.537737425,9033226.293521222,9105776.231946714,8211804.573047793,8102148.708619357,8246680.831724029,10012629.2084953,10012629.2084953,8974554.749373605,8807715.114909073,8330534.068770083,7516685.359542877,7898145.632107703,8110974.602582884,8266474.856143674,8164066.180880825,7777709.429141,7227627.333332294,7279727.165018369,7269901.1517026285,6794577.357871738,6895577.864052757,7107422.949962516,6096161.9825276295,5915475.878339653,6898770.71069646,5668449.702955941,4996931.161718492,5285640.831122428,5463360.703677903,5512890.519096263,5498755.02983591,6608420.406114574,8466157.938034734,8557897.464210821,8893244.019580852,8893244.019580852,6053222.280869456,5851793.721462653,5737104.220601419,5511651.119481544,5324307.926534122,5647457.7326933,14386878.735041646,19567195.605587915,19040612.41441266,20021038.958216097,31293881.060003348,32272378.14526345,32051936.258857716,30033688.8834284,29700281.01662025,30551722.266411226,31418726.576250117,30414056.55114556,30677493.971521135,31056757.751417916,29477136.364406087,29766996.812470738,29166140.302547935,29349248.057829272,29010431.169184137,29010431.169184137,27917510.27461833,27917510.27461833,27312092.75345128,27126547.6350443,27313375.663143177,26992467.30939355,27548182.094662804,30614856.31207594,32947530.515820276,33300497.14344193,34698154.20571272,34698154.20571272,39187941.69035712,38584648.378589965,40846008.55005449,40856034.645334505,40595024.3212175,42382358.45600534,42212910.05736672,40003779.11753319,39289881.39827941,39530629.521948695,40355847.61308805,42382357.83904466,44494495.52382265,44978623.567625016,44978623.567625016,14305937.194205426],\"type\":\"scatter\",\"xaxis\":\"x\",\"yaxis\":\"y\"},{\"name\":\"ROI\",\"x\":[\"2021-04-24T00:00:00+00:00\",\"2021-04-25T00:00:00+00:00\",\"2021-04-26T00:00:00+00:00\",\"2021-04-27T00:00:00+00:00\",\"2021-04-28T00:00:00+00:00\",\"2021-04-29T00:00:00+00:00\",\"2021-04-30T00:00:00+00:00\",\"2021-05-01T00:00:00+00:00\",\"2021-05-02T00:00:00+00:00\",\"2021-05-03T00:00:00+00:00\",\"2021-05-04T00:00:00+00:00\",\"2021-05-05T00:00:00+00:00\",\"2021-05-06T00:00:00+00:00\",\"2021-05-07T00:00:00+00:00\",\"2021-05-08T00:00:00+00:00\",\"2021-05-09T00:00:00+00:00\",\"2021-05-10T00:00:00+00:00\",\"2021-05-11T00:00:00+00:00\",\"2021-05-12T00:00:00+00:00\",\"2021-05-13T00:00:00+00:00\",\"2021-05-14T00:00:00+00:00\",\"2021-05-15T00:00:00+00:00\",\"2021-05-16T00:00:00+00:00\",\"2021-05-17T00:00:00+00:00\",\"2021-05-18T00:00:00+00:00\",\"2021-05-19T00:00:00+00:00\",\"2021-05-20T00:00:00+00:00\",\"2021-05-21T00:00:00+00:00\",\"2021-05-22T00:00:00+00:00\",\"2021-05-23T00:00:00+00:00\",\"2021-05-24T00:00:00+00:00\",\"2021-05-25T00:00:00+00:00\",\"2021-05-26T00:00:00+00:00\",\"2021-05-27T00:00:00+00:00\",\"2021-05-28T00:00:00+00:00\",\"2021-05-29T00:00:00+00:00\",\"2021-05-30T00:00:00+00:00\",\"2021-05-31T00:00:00+00:00\",\"2021-06-01T00:00:00+00:00\",\"2021-06-02T00:00:00+00:00\",\"2021-06-03T00:00:00+00:00\",\"2021-06-04T00:00:00+00:00\",\"2021-06-05T00:00:00+00:00\",\"2021-06-06T00:00:00+00:00\",\"2021-06-07T00:00:00+00:00\",\"2021-06-08T00:00:00+00:00\",\"2021-06-09T00:00:00+00:00\",\"2021-06-10T00:00:00+00:00\",\"2021-06-11T00:00:00+00:00\",\"2021-06-12T00:00:00+00:00\",\"2021-06-13T00:00:00+00:00\",\"2021-06-14T00:00:00+00:00\",\"2021-06-15T00:00:00+00:00\",\"2021-06-16T00:00:00+00:00\",\"2021-06-17T00:00:00+00:00\",\"2021-06-18T00:00:00+00:00\",\"2021-06-19T00:00:00+00:00\",\"2021-06-20T00:00:00+00:00\",\"2021-06-21T00:00:00+00:00\",\"2021-06-22T00:00:00+00:00\",\"2021-06-23T00:00:00+00:00\",\"2021-06-24T00:00:00+00:00\",\"2021-06-25T00:00:00+00:00\",\"2021-06-26T00:00:00+00:00\",\"2021-06-27T00:00:00+00:00\",\"2021-06-28T00:00:00+00:00\",\"2021-06-29T00:00:00+00:00\",\"2021-06-30T00:00:00+00:00\",\"2021-07-01T00:00:00+00:00\",\"2021-07-02T00:00:00+00:00\",\"2021-07-03T00:00:00+00:00\",\"2021-07-04T00:00:00+00:00\",\"2021-07-05T00:00:00+00:00\",\"2021-07-06T00:00:00+00:00\",\"2021-07-07T00:00:00+00:00\",\"2021-07-08T00:00:00+00:00\",\"2021-07-09T00:00:00+00:00\",\"2021-07-10T00:00:00+00:00\",\"2021-07-11T00:00:00+00:00\",\"2021-07-12T00:00:00+00:00\",\"2021-07-13T00:00:00+00:00\",\"2021-07-14T00:00:00+00:00\",\"2021-07-15T00:00:00+00:00\",\"2021-07-16T00:00:00+00:00\",\"2021-07-17T00:00:00+00:00\",\"2021-07-18T00:00:00+00:00\",\"2021-07-19T00:00:00+00:00\",\"2021-07-20T00:00:00+00:00\",\"2021-07-21T00:00:00+00:00\",\"2021-07-22T00:00:00+00:00\",\"2021-07-23T00:00:00+00:00\",\"2021-07-24T00:00:00+00:00\",\"2021-07-25T00:00:00+00:00\",\"2021-07-26T00:00:00+00:00\",\"2021-07-27T00:00:00+00:00\",\"2021-07-28T00:00:00+00:00\",\"2021-07-29T00:00:00+00:00\",\"2021-07-30T00:00:00+00:00\",\"2021-07-31T00:00:00+00:00\",\"2021-08-01T00:00:00+00:00\",\"2021-08-02T00:00:00+00:00\",\"2021-08-03T00:00:00+00:00\",\"2021-08-04T00:00:00+00:00\",\"2021-08-05T00:00:00+00:00\",\"2021-08-06T00:00:00+00:00\",\"2021-08-07T00:00:00+00:00\",\"2021-08-08T00:00:00+00:00\",\"2021-08-09T00:00:00+00:00\",\"2021-08-10T00:00:00+00:00\"],\"y\":[null,null,null,null,null,null,null,8.627853611765346,8.6278536117665,9.393405588775128,17.98378523215778,15.13061901040862,12.709141024152792,12.709141024152792,10.931846937814083,19.68217387670208,18.8864452199228,9.269474980173431,9.269474980173431,8.750326938890307,8.750326938890307,8.750326938889152,1.1546319456101628e-12,0.0,0.0,0.0,-1.1546319456101628e-12,-1.1546319456101628e-12,16.842330060916222,16.886543393462095,16.88654339346325,18.790741277462786,18.790741277462786,21.199360606826012,21.199360606826012,6.859352787819617,6.81513945527259,8.815463339177043,7.102819769554447,7.102819769554447,6.866210420481522,10.770741869629141,8.812271682127815,10.77315483019099,8.772830946286536,10.307521462695934,10.307521462695934,9.670864715048655,7.507155652121789,8.134249732435972,7.379376015257133,8.132565828472238,7.019487235357413,7.131195733583251,5.595842500940229,8.092636109920814,6.921689975198131,9.3608757925014,8.614978796439487,8.001812558767973,10.59791994585293,10.59791994585293,6.360303950651591,12.12834954933184,8.483154301144236,11.268620526261408,11.268620526261408,10.018283030649133,11.73621900425239,14.608238968603349,8.8401933699231,8.8401933699231,6.047434327652734,12.104568734699406,10.80720607322414,9.089270099620883,8.832727116635741,8.832727116635741,11.428406781299305,11.428406781299305,5.371272374252634,7.609473696400393,7.609473696400393,4.9939967150345765,4.9939967150345765,2.3983170503710127,2.3983170503710127,2.3983170503710127,8.161573538234812,9.253579128650014,9.703757875542873,9.703757875542873,9.703757875542873,10.806791649789993,10.806791649789993,6.07937549333073,4.987369902915528,4.5371911560226685,4.5371911560226685,9.509796579482277,8.406762805235157,8.809672776676969,5.37551539490142,7.94468770486958,7.94468770486958,7.94468770486958,2.972082281409971,2.972082281409971,2.5691723099681596],\"type\":\"scatter\",\"xaxis\":\"x2\",\"yaxis\":\"y2\"}],                        {\"template\":{\"data\":{\"barpolar\":[{\"marker\":{\"line\":{\"color\":\"white\",\"width\":0.5},\"pattern\":{\"fillmode\":\"overlay\",\"size\":10,\"solidity\":0.2}},\"type\":\"barpolar\"}],\"bar\":[{\"error_x\":{\"color\":\"rgb(36,36,36)\"},\"error_y\":{\"color\":\"rgb(36,36,36)\"},\"marker\":{\"line\":{\"color\":\"white\",\"width\":0.5},\"pattern\":{\"fillmode\":\"overlay\",\"size\":10,\"solidity\":0.2}},\"type\":\"bar\"}],\"carpet\":[{\"aaxis\":{\"endlinecolor\":\"rgb(36,36,36)\",\"gridcolor\":\"white\",\"linecolor\":\"white\",\"minorgridcolor\":\"white\",\"startlinecolor\":\"rgb(36,36,36)\"},\"baxis\":{\"endlinecolor\":\"rgb(36,36,36)\",\"gridcolor\":\"white\",\"linecolor\":\"white\",\"minorgridcolor\":\"white\",\"startlinecolor\":\"rgb(36,36,36)\"},\"type\":\"carpet\"}],\"choropleth\":[{\"colorbar\":{\"outlinewidth\":1,\"tickcolor\":\"rgb(36,36,36)\",\"ticks\":\"outside\"},\"type\":\"choropleth\"}],\"contourcarpet\":[{\"colorbar\":{\"outlinewidth\":1,\"tickcolor\":\"rgb(36,36,36)\",\"ticks\":\"outside\"},\"type\":\"contourcarpet\"}],\"contour\":[{\"colorbar\":{\"outlinewidth\":1,\"tickcolor\":\"rgb(36,36,36)\",\"ticks\":\"outside\"},\"colorscale\":[[0.0,\"#440154\"],[0.1111111111111111,\"#482878\"],[0.2222222222222222,\"#3e4989\"],[0.3333333333333333,\"#31688e\"],[0.4444444444444444,\"#26828e\"],[0.5555555555555556,\"#1f9e89\"],[0.6666666666666666,\"#35b779\"],[0.7777777777777778,\"#6ece58\"],[0.8888888888888888,\"#b5de2b\"],[1.0,\"#fde725\"]],\"type\":\"contour\"}],\"heatmapgl\":[{\"colorbar\":{\"outlinewidth\":1,\"tickcolor\":\"rgb(36,36,36)\",\"ticks\":\"outside\"},\"colorscale\":[[0.0,\"#440154\"],[0.1111111111111111,\"#482878\"],[0.2222222222222222,\"#3e4989\"],[0.3333333333333333,\"#31688e\"],[0.4444444444444444,\"#26828e\"],[0.5555555555555556,\"#1f9e89\"],[0.6666666666666666,\"#35b779\"],[0.7777777777777778,\"#6ece58\"],[0.8888888888888888,\"#b5de2b\"],[1.0,\"#fde725\"]],\"type\":\"heatmapgl\"}],\"heatmap\":[{\"colorbar\":{\"outlinewidth\":1,\"tickcolor\":\"rgb(36,36,36)\",\"ticks\":\"outside\"},\"colorscale\":[[0.0,\"#440154\"],[0.1111111111111111,\"#482878\"],[0.2222222222222222,\"#3e4989\"],[0.3333333333333333,\"#31688e\"],[0.4444444444444444,\"#26828e\"],[0.5555555555555556,\"#1f9e89\"],[0.6666666666666666,\"#35b779\"],[0.7777777777777778,\"#6ece58\"],[0.8888888888888888,\"#b5de2b\"],[1.0,\"#fde725\"]],\"type\":\"heatmap\"}],\"histogram2dcontour\":[{\"colorbar\":{\"outlinewidth\":1,\"tickcolor\":\"rgb(36,36,36)\",\"ticks\":\"outside\"},\"colorscale\":[[0.0,\"#440154\"],[0.1111111111111111,\"#482878\"],[0.2222222222222222,\"#3e4989\"],[0.3333333333333333,\"#31688e\"],[0.4444444444444444,\"#26828e\"],[0.5555555555555556,\"#1f9e89\"],[0.6666666666666666,\"#35b779\"],[0.7777777777777778,\"#6ece58\"],[0.8888888888888888,\"#b5de2b\"],[1.0,\"#fde725\"]],\"type\":\"histogram2dcontour\"}],\"histogram2d\":[{\"colorbar\":{\"outlinewidth\":1,\"tickcolor\":\"rgb(36,36,36)\",\"ticks\":\"outside\"},\"colorscale\":[[0.0,\"#440154\"],[0.1111111111111111,\"#482878\"],[0.2222222222222222,\"#3e4989\"],[0.3333333333333333,\"#31688e\"],[0.4444444444444444,\"#26828e\"],[0.5555555555555556,\"#1f9e89\"],[0.6666666666666666,\"#35b779\"],[0.7777777777777778,\"#6ece58\"],[0.8888888888888888,\"#b5de2b\"],[1.0,\"#fde725\"]],\"type\":\"histogram2d\"}],\"histogram\":[{\"marker\":{\"line\":{\"color\":\"white\",\"width\":0.6}},\"type\":\"histogram\"}],\"mesh3d\":[{\"colorbar\":{\"outlinewidth\":1,\"tickcolor\":\"rgb(36,36,36)\",\"ticks\":\"outside\"},\"type\":\"mesh3d\"}],\"parcoords\":[{\"line\":{\"colorbar\":{\"outlinewidth\":1,\"tickcolor\":\"rgb(36,36,36)\",\"ticks\":\"outside\"}},\"type\":\"parcoords\"}],\"pie\":[{\"automargin\":true,\"type\":\"pie\"}],\"scatter3d\":[{\"line\":{\"colorbar\":{\"outlinewidth\":1,\"tickcolor\":\"rgb(36,36,36)\",\"ticks\":\"outside\"}},\"marker\":{\"colorbar\":{\"outlinewidth\":1,\"tickcolor\":\"rgb(36,36,36)\",\"ticks\":\"outside\"}},\"type\":\"scatter3d\"}],\"scattercarpet\":[{\"marker\":{\"colorbar\":{\"outlinewidth\":1,\"tickcolor\":\"rgb(36,36,36)\",\"ticks\":\"outside\"}},\"type\":\"scattercarpet\"}],\"scattergeo\":[{\"marker\":{\"colorbar\":{\"outlinewidth\":1,\"tickcolor\":\"rgb(36,36,36)\",\"ticks\":\"outside\"}},\"type\":\"scattergeo\"}],\"scattergl\":[{\"marker\":{\"colorbar\":{\"outlinewidth\":1,\"tickcolor\":\"rgb(36,36,36)\",\"ticks\":\"outside\"}},\"type\":\"scattergl\"}],\"scattermapbox\":[{\"marker\":{\"colorbar\":{\"outlinewidth\":1,\"tickcolor\":\"rgb(36,36,36)\",\"ticks\":\"outside\"}},\"type\":\"scattermapbox\"}],\"scatterpolargl\":[{\"marker\":{\"colorbar\":{\"outlinewidth\":1,\"tickcolor\":\"rgb(36,36,36)\",\"ticks\":\"outside\"}},\"type\":\"scatterpolargl\"}],\"scatterpolar\":[{\"marker\":{\"colorbar\":{\"outlinewidth\":1,\"tickcolor\":\"rgb(36,36,36)\",\"ticks\":\"outside\"}},\"type\":\"scatterpolar\"}],\"scatter\":[{\"marker\":{\"colorbar\":{\"outlinewidth\":1,\"tickcolor\":\"rgb(36,36,36)\",\"ticks\":\"outside\"}},\"type\":\"scatter\"}],\"scatterternary\":[{\"marker\":{\"colorbar\":{\"outlinewidth\":1,\"tickcolor\":\"rgb(36,36,36)\",\"ticks\":\"outside\"}},\"type\":\"scatterternary\"}],\"surface\":[{\"colorbar\":{\"outlinewidth\":1,\"tickcolor\":\"rgb(36,36,36)\",\"ticks\":\"outside\"},\"colorscale\":[[0.0,\"#440154\"],[0.1111111111111111,\"#482878\"],[0.2222222222222222,\"#3e4989\"],[0.3333333333333333,\"#31688e\"],[0.4444444444444444,\"#26828e\"],[0.5555555555555556,\"#1f9e89\"],[0.6666666666666666,\"#35b779\"],[0.7777777777777778,\"#6ece58\"],[0.8888888888888888,\"#b5de2b\"],[1.0,\"#fde725\"]],\"type\":\"surface\"}],\"table\":[{\"cells\":{\"fill\":{\"color\":\"rgb(237,237,237)\"},\"line\":{\"color\":\"white\"}},\"header\":{\"fill\":{\"color\":\"rgb(217,217,217)\"},\"line\":{\"color\":\"white\"}},\"type\":\"table\"}]},\"layout\":{\"annotationdefaults\":{\"arrowhead\":0,\"arrowwidth\":1},\"autotypenumbers\":\"strict\",\"coloraxis\":{\"colorbar\":{\"outlinewidth\":1,\"tickcolor\":\"rgb(36,36,36)\",\"ticks\":\"outside\"}},\"colorscale\":{\"diverging\":[[0.0,\"rgb(103,0,31)\"],[0.1,\"rgb(178,24,43)\"],[0.2,\"rgb(214,96,77)\"],[0.3,\"rgb(244,165,130)\"],[0.4,\"rgb(253,219,199)\"],[0.5,\"rgb(247,247,247)\"],[0.6,\"rgb(209,229,240)\"],[0.7,\"rgb(146,197,222)\"],[0.8,\"rgb(67,147,195)\"],[0.9,\"rgb(33,102,172)\"],[1.0,\"rgb(5,48,97)\"]],\"sequential\":[[0.0,\"#440154\"],[0.1111111111111111,\"#482878\"],[0.2222222222222222,\"#3e4989\"],[0.3333333333333333,\"#31688e\"],[0.4444444444444444,\"#26828e\"],[0.5555555555555556,\"#1f9e89\"],[0.6666666666666666,\"#35b779\"],[0.7777777777777778,\"#6ece58\"],[0.8888888888888888,\"#b5de2b\"],[1.0,\"#fde725\"]],\"sequentialminus\":[[0.0,\"#440154\"],[0.1111111111111111,\"#482878\"],[0.2222222222222222,\"#3e4989\"],[0.3333333333333333,\"#31688e\"],[0.4444444444444444,\"#26828e\"],[0.5555555555555556,\"#1f9e89\"],[0.6666666666666666,\"#35b779\"],[0.7777777777777778,\"#6ece58\"],[0.8888888888888888,\"#b5de2b\"],[1.0,\"#fde725\"]]},\"colorway\":[\"#1F77B4\",\"#FF7F0E\",\"#2CA02C\",\"#D62728\",\"#9467BD\",\"#8C564B\",\"#E377C2\",\"#7F7F7F\",\"#BCBD22\",\"#17BECF\"],\"font\":{\"color\":\"rgb(36,36,36)\"},\"geo\":{\"bgcolor\":\"white\",\"lakecolor\":\"white\",\"landcolor\":\"white\",\"showlakes\":true,\"showland\":true,\"subunitcolor\":\"white\"},\"hoverlabel\":{\"align\":\"left\"},\"hovermode\":\"closest\",\"mapbox\":{\"style\":\"light\"},\"paper_bgcolor\":\"white\",\"plot_bgcolor\":\"white\",\"polar\":{\"angularaxis\":{\"gridcolor\":\"rgb(232,232,232)\",\"linecolor\":\"rgb(36,36,36)\",\"showgrid\":false,\"showline\":true,\"ticks\":\"outside\"},\"bgcolor\":\"white\",\"radialaxis\":{\"gridcolor\":\"rgb(232,232,232)\",\"linecolor\":\"rgb(36,36,36)\",\"showgrid\":false,\"showline\":true,\"ticks\":\"outside\"}},\"scene\":{\"xaxis\":{\"backgroundcolor\":\"white\",\"gridcolor\":\"rgb(232,232,232)\",\"gridwidth\":2,\"linecolor\":\"rgb(36,36,36)\",\"showbackground\":true,\"showgrid\":false,\"showline\":true,\"ticks\":\"outside\",\"zeroline\":false,\"zerolinecolor\":\"rgb(36,36,36)\"},\"yaxis\":{\"backgroundcolor\":\"white\",\"gridcolor\":\"rgb(232,232,232)\",\"gridwidth\":2,\"linecolor\":\"rgb(36,36,36)\",\"showbackground\":true,\"showgrid\":false,\"showline\":true,\"ticks\":\"outside\",\"zeroline\":false,\"zerolinecolor\":\"rgb(36,36,36)\"},\"zaxis\":{\"backgroundcolor\":\"white\",\"gridcolor\":\"rgb(232,232,232)\",\"gridwidth\":2,\"linecolor\":\"rgb(36,36,36)\",\"showbackground\":true,\"showgrid\":false,\"showline\":true,\"ticks\":\"outside\",\"zeroline\":false,\"zerolinecolor\":\"rgb(36,36,36)\"}},\"shapedefaults\":{\"fillcolor\":\"black\",\"line\":{\"width\":0},\"opacity\":0.3},\"ternary\":{\"aaxis\":{\"gridcolor\":\"rgb(232,232,232)\",\"linecolor\":\"rgb(36,36,36)\",\"showgrid\":false,\"showline\":true,\"ticks\":\"outside\"},\"baxis\":{\"gridcolor\":\"rgb(232,232,232)\",\"linecolor\":\"rgb(36,36,36)\",\"showgrid\":false,\"showline\":true,\"ticks\":\"outside\"},\"bgcolor\":\"white\",\"caxis\":{\"gridcolor\":\"rgb(232,232,232)\",\"linecolor\":\"rgb(36,36,36)\",\"showgrid\":false,\"showline\":true,\"ticks\":\"outside\"}},\"title\":{\"x\":0.05},\"xaxis\":{\"automargin\":true,\"gridcolor\":\"rgb(232,232,232)\",\"linecolor\":\"rgb(36,36,36)\",\"showgrid\":false,\"showline\":true,\"ticks\":\"outside\",\"title\":{\"standoff\":15},\"zeroline\":false,\"zerolinecolor\":\"rgb(36,36,36)\"},\"yaxis\":{\"automargin\":true,\"gridcolor\":\"rgb(232,232,232)\",\"linecolor\":\"rgb(36,36,36)\",\"showgrid\":false,\"showline\":true,\"ticks\":\"outside\",\"title\":{\"standoff\":15},\"zeroline\":false,\"zerolinecolor\":\"rgb(36,36,36)\"}}},\"xaxis\":{\"anchor\":\"y\",\"domain\":[0.0,1.0]},\"yaxis\":{\"anchor\":\"x\",\"domain\":[0.625,1.0],\"title\":{\"text\":\"Value in USD\"}},\"xaxis2\":{\"anchor\":\"y2\",\"domain\":[0.0,1.0]},\"yaxis2\":{\"anchor\":\"x2\",\"domain\":[0.0,0.375],\"title\":{\"text\":\"ROI % Annualised\"}},\"annotations\":[{\"font\":{\"size\":16},\"showarrow\":false,\"text\":\"yvCurve-oBTC USD Value\",\"x\":0.5,\"xanchor\":\"center\",\"xref\":\"paper\",\"y\":1.0,\"yanchor\":\"bottom\",\"yref\":\"paper\"},{\"font\":{\"size\":16},\"showarrow\":false,\"text\":\"yvCurve-oBTC 7 Day Annualised ROI\",\"x\":0.5,\"xanchor\":\"center\",\"xref\":\"paper\",\"y\":0.375,\"yanchor\":\"bottom\",\"yref\":\"paper\"}],\"title\":{\"text\":\"yvCurve-oBTC TVL & ROI\"},\"width\":800,\"height\":600,\"showlegend\":false},                        {\"responsive\": true}                    ).then(function(){\n",
              "                            \n",
              "var gd = document.getElementById('6d29c433-92ad-4a62-8a1d-20e58404419b');\n",
              "var x = new MutationObserver(function (mutations, observer) {{\n",
              "        var display = window.getComputedStyle(gd).display;\n",
              "        if (!display || display === 'none') {{\n",
              "            console.log([gd, 'removed!']);\n",
              "            Plotly.purge(gd);\n",
              "            observer.disconnect();\n",
              "        }}\n",
              "}});\n",
              "\n",
              "// Listen for the removal of the full notebook cells\n",
              "var notebookContainer = gd.closest('#notebook-container');\n",
              "if (notebookContainer) {{\n",
              "    x.observe(notebookContainer, {childList: true});\n",
              "}}\n",
              "\n",
              "// Listen for the clearing of the current output cell\n",
              "var outputEl = gd.closest('.output');\n",
              "if (outputEl) {{\n",
              "    x.observe(outputEl, {childList: true});\n",
              "}}\n",
              "\n",
              "                        })                };                            </script>        </div>\n",
              "</body>\n",
              "</html>"
            ]
          },
          "metadata": {}
        }
      ]
    }
  ]
}